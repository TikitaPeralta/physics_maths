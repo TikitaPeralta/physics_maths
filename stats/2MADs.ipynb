{
 "cells": [
  {
   "attachments": {},
   "cell_type": "markdown",
   "metadata": {},
   "source": [
    "# The Two MADs"
   ]
  },
  {
   "attachments": {},
   "cell_type": "markdown",
   "metadata": {},
   "source": [
    "## mean average deviation with a set:\n",
    "\n",
    "1. find the mean of your set\n",
    "2. find the absolute difference between your mean value and each data point in the set\n",
    "3. find the mean of this new set"
   ]
  },
  {
   "attachments": {},
   "cell_type": "markdown",
   "metadata": {},
   "source": [
    "$$MAD = \\frac{\\sum|x_{i} - \\overline{x}|}{n} $$"
   ]
  },
  {
   "cell_type": "code",
   "execution_count": 13,
   "metadata": {},
   "outputs": [],
   "source": [
    "#import libraries:\n",
    "import matplotlib.pyplot as plt\n",
    "import numpy as np\n",
    "\n",
    "set1 = [10, 15, 15, 17, 18, 21]         # our set"
   ]
  },
  {
   "cell_type": "code",
   "execution_count": 14,
   "metadata": {},
   "outputs": [
    {
     "name": "stdout",
     "output_type": "stream",
     "text": [
      "96\n",
      "6\n",
      "16\n"
     ]
    }
   ],
   "source": [
    "counter = 0\n",
    "for s in set1:\n",
    "    counter += s\n",
    "print(counter)\n",
    "\n",
    "l = len(set1)\n",
    "print(l)\n",
    "\n",
    "mean = counter/l\n",
    "print(int(mean))"
   ]
  },
  {
   "cell_type": "code",
   "execution_count": 15,
   "metadata": {},
   "outputs": [
    {
     "name": "stdout",
     "output_type": "stream",
     "text": [
      "[6, 1, 1, 1, 2, 5]\n",
      "16\n",
      "2.6666666666666665\n",
      "on average, each data point is 2.6666666666666665 away from the mean!\n"
     ]
    }
   ],
   "source": [
    "set2 = []\n",
    "\n",
    "for s in set1:\n",
    "    t = abs(s - mean)\n",
    "    set2.append(int(t))\n",
    "print(set2)\n",
    "\n",
    "counter2 = 0\n",
    "for t in set2:\n",
    "    counter2 += t\n",
    "print(counter2)\n",
    "\n",
    "y = len(set2)\n",
    "\n",
    "mad = counter2/y\n",
    "print(mad)\n",
    "\n",
    "print(f\"on average, each data point is {mad} away from the mean!\")"
   ]
  },
  {
   "cell_type": "code",
   "execution_count": null,
   "metadata": {},
   "outputs": [],
   "source": []
  }
 ],
 "metadata": {
  "kernelspec": {
   "display_name": "Python 3",
   "language": "python",
   "name": "python3"
  },
  "language_info": {
   "codemirror_mode": {
    "name": "ipython",
    "version": 3
   },
   "file_extension": ".py",
   "mimetype": "text/x-python",
   "name": "python",
   "nbconvert_exporter": "python",
   "pygments_lexer": "ipython3",
   "version": "3.9.2"
  },
  "orig_nbformat": 4
 },
 "nbformat": 4,
 "nbformat_minor": 2
}
